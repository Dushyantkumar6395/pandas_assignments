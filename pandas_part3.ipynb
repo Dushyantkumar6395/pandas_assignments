{
 "cells": [
  {
   "cell_type": "code",
   "execution_count": 2,
   "id": "ad05b947-e279-4527-adb1-7aad9890e852",
   "metadata": {},
   "outputs": [],
   "source": [
    "import pandas as pd"
   ]
  },
  {
   "cell_type": "code",
   "execution_count": 3,
   "id": "4f26eaca-b57c-4f5e-a0e1-042413de5382",
   "metadata": {},
   "outputs": [
    {
     "name": "stdout",
     "output_type": "stream",
     "text": [
      "Requirement already satisfied: pandas in /opt/conda/lib/python3.10/site-packages (1.5.1)\n",
      "Requirement already satisfied: python-dateutil>=2.8.1 in /opt/conda/lib/python3.10/site-packages (from pandas) (2.8.2)\n",
      "Requirement already satisfied: pytz>=2020.1 in /opt/conda/lib/python3.10/site-packages (from pandas) (2022.5)\n",
      "Requirement already satisfied: numpy>=1.21.0 in /opt/conda/lib/python3.10/site-packages (from pandas) (1.23.4)\n",
      "Requirement already satisfied: six>=1.5 in /opt/conda/lib/python3.10/site-packages (from python-dateutil>=2.8.1->pandas) (1.16.0)\n",
      "Note: you may need to restart the kernel to use updated packages.\n"
     ]
    }
   ],
   "source": [
    "pip install pandas"
   ]
  },
  {
   "cell_type": "code",
   "execution_count": 5,
   "id": "63c5a529-4a75-416b-8db1-01570269bb6e",
   "metadata": {},
   "outputs": [],
   "source": [
    "df = pd.read_csv(\"data2.csv\")"
   ]
  },
  {
   "cell_type": "code",
   "execution_count": 7,
   "id": "ec8d6b5e-f9c7-4cd0-a610-c7c295e13974",
   "metadata": {},
   "outputs": [
    {
     "data": {
      "text/plain": [
       "Index(['Name', 'Address', 'email_id', 'phone_number', 'Sex', 'Civil_code',\n",
       "       'income', 'monthly_sal'],\n",
       "      dtype='object')"
      ]
     },
     "execution_count": 7,
     "metadata": {},
     "output_type": "execute_result"
    }
   ],
   "source": [
    "df.columns"
   ]
  },
  {
   "cell_type": "code",
   "execution_count": 13,
   "id": "df138d23-87d9-473d-abdc-d929b1113aee",
   "metadata": {},
   "outputs": [],
   "source": [
    "s = df['Name'][0:10]"
   ]
  },
  {
   "cell_type": "code",
   "execution_count": 14,
   "id": "9192db5e-8103-41f0-9b72-ac663f9ecdf5",
   "metadata": {},
   "outputs": [
    {
     "data": {
      "text/plain": [
       "0    Dushyant kumar\n",
       "1    Bushyant kumar\n",
       "2    Cushyant kumar\n",
       "3    Eushyant kumar\n",
       "4    Rushyant kumar\n",
       "5    Fushyant kumar\n",
       "6    Jushyant kumar\n",
       "7    Kushyant kumar\n",
       "8    Lushyant kumar\n",
       "9    Sushyant kumar\n",
       "Name: Name, dtype: object"
      ]
     },
     "execution_count": 14,
     "metadata": {},
     "output_type": "execute_result"
    }
   ],
   "source": [
    "s"
   ]
  },
  {
   "cell_type": "code",
   "execution_count": 15,
   "id": "e8391651-8107-4aa5-91a7-2672ec836be4",
   "metadata": {},
   "outputs": [
    {
     "data": {
      "text/plain": [
       "10"
      ]
     },
     "execution_count": 15,
     "metadata": {},
     "output_type": "execute_result"
    }
   ],
   "source": [
    "len(s)"
   ]
  },
  {
   "cell_type": "code",
   "execution_count": 16,
   "id": "e9a1eccb-1c07-4d09-b9ad-6c7820f14f9e",
   "metadata": {},
   "outputs": [
    {
     "data": {
      "text/plain": [
       "pandas.core.series.Series"
      ]
     },
     "execution_count": 16,
     "metadata": {},
     "output_type": "execute_result"
    }
   ],
   "source": [
    "type(s)"
   ]
  },
  {
   "cell_type": "code",
   "execution_count": 17,
   "id": "9f14fbf6-8357-449e-a600-eaf9c9893b93",
   "metadata": {},
   "outputs": [
    {
     "data": {
      "text/plain": [
       "0    Dushyant kumar\n",
       "1    Bushyant kumar\n",
       "2    Cushyant kumar\n",
       "3    Eushyant kumar\n",
       "4    Rushyant kumar\n",
       "5    Fushyant kumar\n",
       "6    Jushyant kumar\n",
       "7    Kushyant kumar\n",
       "8    Lushyant kumar\n",
       "9    Sushyant kumar\n",
       "Name: Name, dtype: object"
      ]
     },
     "execution_count": 17,
     "metadata": {},
     "output_type": "execute_result"
    }
   ],
   "source": [
    "s"
   ]
  },
  {
   "cell_type": "code",
   "execution_count": 18,
   "id": "209fbee1-cc0b-426f-8748-36a577fe7a1f",
   "metadata": {},
   "outputs": [],
   "source": [
    "l = ['a','b','c','d','e','f','g','h','i','j']"
   ]
  },
  {
   "cell_type": "code",
   "execution_count": 26,
   "id": "97371276-9b6c-4b76-940e-22d5760baedb",
   "metadata": {},
   "outputs": [],
   "source": [
    "s1 = pd.Series(list(s),index = l)"
   ]
  },
  {
   "cell_type": "code",
   "execution_count": 27,
   "id": "daf51ab4-84f5-4c94-ad40-5deaffd99aef",
   "metadata": {},
   "outputs": [],
   "source": [
    "l1 = ['1','2','3','4','5','6','7','8','9','10']"
   ]
  },
  {
   "cell_type": "code",
   "execution_count": 28,
   "id": "625a1e96-e115-4e85-927a-de9f66529055",
   "metadata": {},
   "outputs": [
    {
     "data": {
      "text/plain": [
       "1     Dushyant kumar\n",
       "2     Bushyant kumar\n",
       "3     Cushyant kumar\n",
       "4     Eushyant kumar\n",
       "5     Rushyant kumar\n",
       "6     Fushyant kumar\n",
       "7     Jushyant kumar\n",
       "8     Kushyant kumar\n",
       "9     Lushyant kumar\n",
       "10    Sushyant kumar\n",
       "dtype: object"
      ]
     },
     "execution_count": 28,
     "metadata": {},
     "output_type": "execute_result"
    }
   ],
   "source": [
    "pd.Series(list(s), index = l1)"
   ]
  },
  {
   "cell_type": "code",
   "execution_count": 29,
   "id": "371abf96-bcfb-43ab-b64e-e2ece72ef55f",
   "metadata": {},
   "outputs": [
    {
     "data": {
      "text/plain": [
       "a    Dushyant kumar\n",
       "b    Bushyant kumar\n",
       "c    Cushyant kumar\n",
       "d    Eushyant kumar\n",
       "e    Rushyant kumar\n",
       "f    Fushyant kumar\n",
       "g    Jushyant kumar\n",
       "h    Kushyant kumar\n",
       "i    Lushyant kumar\n",
       "j    Sushyant kumar\n",
       "dtype: object"
      ]
     },
     "execution_count": 29,
     "metadata": {},
     "output_type": "execute_result"
    }
   ],
   "source": [
    "s1"
   ]
  },
  {
   "cell_type": "code",
   "execution_count": 30,
   "id": "8e195455-0739-4d46-bea6-562ced88b38f",
   "metadata": {},
   "outputs": [
    {
     "data": {
      "text/plain": [
       "'Dushyant kumar'"
      ]
     },
     "execution_count": 30,
     "metadata": {},
     "output_type": "execute_result"
    }
   ],
   "source": [
    "s[0]"
   ]
  },
  {
   "cell_type": "code",
   "execution_count": 31,
   "id": "05ab6d9d-2cb9-4fa3-9f3c-11c120d19034",
   "metadata": {},
   "outputs": [
    {
     "data": {
      "text/plain": [
       "'Dushyant kumar'"
      ]
     },
     "execution_count": 31,
     "metadata": {},
     "output_type": "execute_result"
    }
   ],
   "source": [
    "s1[0]"
   ]
  },
  {
   "cell_type": "code",
   "execution_count": 32,
   "id": "9c43f250-d6be-47b8-b1e0-4d1393abd35a",
   "metadata": {},
   "outputs": [
    {
     "data": {
      "text/plain": [
       "'Fushyant kumar'"
      ]
     },
     "execution_count": 32,
     "metadata": {},
     "output_type": "execute_result"
    }
   ],
   "source": [
    "s1['f']"
   ]
  },
  {
   "cell_type": "code",
   "execution_count": 35,
   "id": "2c2aec3c-2580-4005-8ec8-463f219dd6f6",
   "metadata": {},
   "outputs": [
    {
     "name": "stderr",
     "output_type": "stream",
     "text": [
      "/tmp/ipykernel_537/2065053183.py:1: FutureWarning: The series.append method is deprecated and will be removed from pandas in a future version. Use pandas.concat instead.\n",
      "  s2 =  s1.append(s)\n"
     ]
    }
   ],
   "source": [
    "s2 =  s1.append(s)"
   ]
  },
  {
   "cell_type": "code",
   "execution_count": 36,
   "id": "ca63f89a-bd10-4cd2-a88a-87c34cef8245",
   "metadata": {},
   "outputs": [
    {
     "data": {
      "text/plain": [
       "'Dushyant kumar'"
      ]
     },
     "execution_count": 36,
     "metadata": {},
     "output_type": "execute_result"
    }
   ],
   "source": [
    "s2[0]"
   ]
  },
  {
   "cell_type": "code",
   "execution_count": 37,
   "id": "a6120a68-a52c-4cfb-b45f-cac3bfbd5dbb",
   "metadata": {},
   "outputs": [
    {
     "data": {
      "text/plain": [
       "'Rushyant kumar'"
      ]
     },
     "execution_count": 37,
     "metadata": {},
     "output_type": "execute_result"
    }
   ],
   "source": [
    "s2[4]"
   ]
  },
  {
   "cell_type": "code",
   "execution_count": 39,
   "id": "03d858b9-993b-45c4-aeaa-b0cfc453fb2c",
   "metadata": {},
   "outputs": [],
   "source": [
    "s4 = pd.Series([3,4,5,6,7], index = [2,4,5,6,1])"
   ]
  },
  {
   "cell_type": "code",
   "execution_count": 40,
   "id": "5c42baac-09d0-4ddf-a815-22c981eb30b1",
   "metadata": {},
   "outputs": [],
   "source": [
    "s5 = pd.Series([34,345,45,45,454], index=[9,4,5,6,7])"
   ]
  },
  {
   "cell_type": "code",
   "execution_count": 42,
   "id": "4c42a24c-316a-457f-886d-ff5398669555",
   "metadata": {},
   "outputs": [
    {
     "name": "stderr",
     "output_type": "stream",
     "text": [
      "/tmp/ipykernel_537/937876903.py:1: FutureWarning: The series.append method is deprecated and will be removed from pandas in a future version. Use pandas.concat instead.\n",
      "  s6 = s4.append(s5)\n"
     ]
    }
   ],
   "source": [
    "s6 = s4.append(s5)"
   ]
  },
  {
   "cell_type": "code",
   "execution_count": 44,
   "id": "63c5f9cc-369a-400e-87b1-ce0fa64da2cb",
   "metadata": {},
   "outputs": [
    {
     "data": {
      "text/plain": [
       "2      3\n",
       "4      4\n",
       "5      5\n",
       "6      6\n",
       "1      7\n",
       "9     34\n",
       "4    345\n",
       "5     45\n",
       "6     45\n",
       "7    454\n",
       "dtype: int64"
      ]
     },
     "execution_count": 44,
     "metadata": {},
     "output_type": "execute_result"
    }
   ],
   "source": [
    "s6"
   ]
  },
  {
   "cell_type": "code",
   "execution_count": 43,
   "id": "184220b7-7fb5-4080-9dba-a337309bd9bb",
   "metadata": {},
   "outputs": [
    {
     "data": {
      "text/plain": [
       "4      4\n",
       "4    345\n",
       "dtype: int64"
      ]
     },
     "execution_count": 43,
     "metadata": {},
     "output_type": "execute_result"
    }
   ],
   "source": [
    "s6[4]  # Based on named indexes"
   ]
  },
  {
   "cell_type": "code",
   "execution_count": 45,
   "id": "bd971637-5852-48d5-882f-589af596e27a",
   "metadata": {},
   "outputs": [
    {
     "name": "stderr",
     "output_type": "stream",
     "text": [
      "/tmp/ipykernel_537/2671872114.py:1: FutureWarning: The behavior of `series[i:j]` with an integer-dtype index is deprecated. In a future version, this will be treated as *label-based* indexing, consistent with e.g. `series[i]` lookups. To retain the old behavior, use `series.iloc[i:j]`. To get the future behavior, use `series.loc[i:j]`.\n",
      "  s6[0:5]\n"
     ]
    },
    {
     "data": {
      "text/plain": [
       "2    3\n",
       "4    4\n",
       "5    5\n",
       "6    6\n",
       "1    7\n",
       "dtype: int64"
      ]
     },
     "execution_count": 45,
     "metadata": {},
     "output_type": "execute_result"
    }
   ],
   "source": [
    "s6[0:5]  # Based on default indexes"
   ]
  },
  {
   "cell_type": "code",
   "execution_count": 46,
   "id": "bdf96824-a08e-4689-9f4f-1d888aadcc61",
   "metadata": {},
   "outputs": [
    {
     "data": {
      "text/plain": [
       "1       NaN\n",
       "2       NaN\n",
       "4    1380.0\n",
       "5     225.0\n",
       "6     270.0\n",
       "7       NaN\n",
       "9       NaN\n",
       "dtype: float64"
      ]
     },
     "execution_count": 46,
     "metadata": {},
     "output_type": "execute_result"
    }
   ],
   "source": [
    "s4*s5  # Baesd on named indexes"
   ]
  },
  {
   "cell_type": "code",
   "execution_count": 47,
   "id": "e1286e96-8a50-4d80-8dbd-6ca673825b66",
   "metadata": {},
   "outputs": [
    {
     "data": {
      "text/plain": [
       "1      NaN\n",
       "2      NaN\n",
       "4    349.0\n",
       "5     50.0\n",
       "6     51.0\n",
       "7      NaN\n",
       "9      NaN\n",
       "dtype: float64"
      ]
     },
     "execution_count": 47,
     "metadata": {},
     "output_type": "execute_result"
    }
   ],
   "source": [
    "s4+s5  # Baesd on named indexes"
   ]
  },
  {
   "cell_type": "code",
   "execution_count": null,
   "id": "dcc2fac2-5b9a-497f-9fdd-8174aaf85926",
   "metadata": {},
   "outputs": [],
   "source": [
    "# DataFrame:\n",
    "     # DataFrame is a combination of Series"
   ]
  }
 ],
 "metadata": {
  "kernelspec": {
   "display_name": "Python 3 (ipykernel)",
   "language": "python",
   "name": "python3"
  },
  "language_info": {
   "codemirror_mode": {
    "name": "ipython",
    "version": 3
   },
   "file_extension": ".py",
   "mimetype": "text/x-python",
   "name": "python",
   "nbconvert_exporter": "python",
   "pygments_lexer": "ipython3",
   "version": "3.10.6"
  }
 },
 "nbformat": 4,
 "nbformat_minor": 5
}
