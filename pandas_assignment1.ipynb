{
 "cells": [
  {
   "cell_type": "code",
   "execution_count": 10,
   "id": "d48816cf-bfc7-43bd-a3b4-5e3c97f3c048",
   "metadata": {},
   "outputs": [
    {
     "name": "stdout",
     "output_type": "stream",
     "text": [
      "0     4\n",
      "1     8\n",
      "2    15\n",
      "3    16\n",
      "4    23\n",
      "5    42\n",
      "dtype: int64\n"
     ]
    }
   ],
   "source": [
    "# Q1. Create a Pandas Series that contains the following data: 4, 8, 15, 16, 23, and 42. Then, print the series.\n",
    "# Answer:\n",
    "# import pandas as pd\n",
    "import pandas as pd\n",
    "\n",
    "# Creating empty series\n",
    "ser = pd.Series([4, 8, 15, 16, 23,42])\n",
    "\n",
    "print(ser)\n",
    "\n",
    "\n"
   ]
  },
  {
   "cell_type": "code",
   "execution_count": 17,
   "id": "d7662e4a-e18b-4f83-b2c2-e15a260230a5",
   "metadata": {},
   "outputs": [
    {
     "name": "stdout",
     "output_type": "stream",
     "text": [
      "0     1\n",
      "1     2\n",
      "2     3\n",
      "3     4\n",
      "4     5\n",
      "5     6\n",
      "6     7\n",
      "7     8\n",
      "8     9\n",
      "9    10\n",
      "dtype: int64\n"
     ]
    }
   ],
   "source": [
    "# Q2. Create a variable of list type containing 10 elements in it, and apply pandas.Series function on thevariable print it.\n",
    "# Answer:\n",
    "import pandas as pd\n",
    "variable = [1,2,3,4,5,6,7,8,9,10]\n",
    "ser = pd.Series(variable)\n",
    "print(ser)"
   ]
  },
  {
   "cell_type": "code",
   "execution_count": 15,
   "id": "09f2347b-6daa-49f3-a6bf-09c937fdf870",
   "metadata": {},
   "outputs": [
    {
     "name": "stdout",
     "output_type": "stream",
     "text": [
      "     Name  Age  Gender\n",
      "0   Alice   25  Female\n",
      "1     Bob   30    Male\n",
      "2  Claire   27  Female\n",
      "<class 'pandas.core.frame.DataFrame'>\n"
     ]
    }
   ],
   "source": [
    "# Q3:\n",
    "# Answer:\n",
    "import pandas as pd\n",
    "df = pd.read_csv(\"data100.csv\")\n",
    "print(df)\n",
    "print(type(df))\n"
   ]
  },
  {
   "cell_type": "code",
   "execution_count": 20,
   "id": "348975dd-2b5f-4616-85a8-935bc7b6f893",
   "metadata": {},
   "outputs": [
    {
     "name": "stdout",
     "output_type": "stream",
     "text": [
      "['Name', 'Age', 'Gender']\n",
      "0     Alice\n",
      "1       Bob\n",
      "2    Claire\n",
      "Name: Name, dtype: object\n",
      "<class 'pandas.core.series.Series'>\n",
      "     Name  Age\n",
      "0   Alice   25\n",
      "1     Bob   30\n",
      "2  Claire   27\n",
      "<class 'pandas.core.frame.DataFrame'>\n"
     ]
    }
   ],
   "source": [
    "# Q4. What is ‘DataFrame’ in pandas and how is it different from pandas.series? Explain with an example.\n",
    "# Answer:\n",
    "#     As noted in the table, a Pandas Series is a 1D array of data, but a single-column DataFrame is\n",
    "#    a 2D table with one column. The main distinction between the two is this. For a single-column DataFrame, \n",
    "#    an index can be optional, but a Series has to have an index defined.\n",
    "print(list(df.columns))\n",
    "print(df['Name'])\n",
    "print(type(df['Name']))\n",
    "print(df[['Name','Age']])\n",
    "print(type(df[['Name','Age']]))"
   ]
  },
  {
   "cell_type": "code",
   "execution_count": 24,
   "id": "0bda7bff-c201-4322-8bba-49104c58cec8",
   "metadata": {},
   "outputs": [
    {
     "name": "stdout",
     "output_type": "stream",
     "text": [
      "     Name  Age  Gender\n",
      "0   Alice   25  Female\n",
      "1     Bob   30    Male\n",
      "2  Claire   27  Female\n"
     ]
    }
   ],
   "source": [
    "# Q5. What are some common functions you can use to manipulate data in a Pandas DataFrame? \n",
    "#       Canyou give an example of when you might use one of these functions?\n",
    "# Answer:\n",
    "#    Some common functions you can use to manipulate data in a Pandas DataFrame are head(),tail() etc.\n",
    "print(df.head())  # This is print starting five row by default\n"
   ]
  },
  {
   "cell_type": "code",
   "execution_count": 25,
   "id": "b1a9d18a-3616-44be-be66-075ddccfef12",
   "metadata": {},
   "outputs": [],
   "source": [
    "# Q6. Which of the following is mutable in nature Series, DataFrame, Panel?\n",
    "# Answer:\n",
    "    # Series: 1D labeled homogeneous array, sizeimmutable.\n",
    "    # DataFrame: General 2D labeled, size-mutable tabular structure with potentially heterogeneously typed columns.\n",
    "    # Panel: General 3D labeled, size-mutable array."
   ]
  },
  {
   "cell_type": "code",
   "execution_count": 26,
   "id": "6e22b0cc-788f-4898-8959-56dc96726fb9",
   "metadata": {},
   "outputs": [
    {
     "name": "stdout",
     "output_type": "stream",
     "text": [
      "         0      1     2\n",
      "0    Spark  22000  1000\n",
      "1  PySpark  25000  2300\n",
      "2   Hadoop  23000  1000\n"
     ]
    }
   ],
   "source": [
    "# Q7. Create a DataFrame using multiple Series. Explain with an example.\n",
    "# Answer:\n",
    "import pandas as pd\n",
    "# Create pandas Series\n",
    "courses = pd.Series([\"Spark\",\"PySpark\",\"Hadoop\"])\n",
    "fees = pd.Series([22000,25000,23000])\n",
    "discount  = pd.Series([1000,2300,1000])\n",
    "\n",
    "# Combine two series.\n",
    "df=pd.concat([courses,fees],axis=1)\n",
    "\n",
    "# It also supports to combine multiple series.\n",
    "df=pd.concat([courses,fees,discount],axis=1)\n",
    "print(df)"
   ]
  }
 ],
 "metadata": {
  "kernelspec": {
   "display_name": "Python 3 (ipykernel)",
   "language": "python",
   "name": "python3"
  },
  "language_info": {
   "codemirror_mode": {
    "name": "ipython",
    "version": 3
   },
   "file_extension": ".py",
   "mimetype": "text/x-python",
   "name": "python",
   "nbconvert_exporter": "python",
   "pygments_lexer": "ipython3",
   "version": "3.10.6"
  }
 },
 "nbformat": 4,
 "nbformat_minor": 5
}
